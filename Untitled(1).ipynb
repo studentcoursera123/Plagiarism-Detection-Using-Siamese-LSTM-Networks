{
 "cells": [
  {
   "cell_type": "code",
   "execution_count": 1,
   "id": "459ebbcd-754e-4b11-b0ba-f6eab78581cd",
   "metadata": {},
   "outputs": [],
   "source": [
    "# Import required libraries\n",
    "import torch\n",
    "import torch.nn as nn\n",
    "import torch.optim as optim\n",
    "import pandas as pd\n",
    "import numpy as np\n",
    "from torch.utils.data import DataLoader, Dataset\n",
    "from sklearn.model_selection import train_test_split\n",
    "from sklearn.metrics import accuracy_score\n",
    "import matplotlib.pyplot as plt\n",
    "from collections import Counter\n",
    "\n"
   ]
  },
  {
   "cell_type": "code",
   "execution_count": 2,
   "id": "4eee8c4f-2dea-45c0-a558-d3894c900faf",
   "metadata": {},
   "outputs": [],
   "source": [
    "df = pd.read_csv(\"/workspace/Floor_plan_generation/plagarismchecker/dataset/train_snli.txt\", sep=\"\\t\", header=None, names=[\"sentence1\", \"sentence2\", \"label\"])\n",
    "\n",
    "# Clean the data\n",
    "df.dropna(inplace=True)\n",
    "df = df[df['sentence1'].apply(lambda x: isinstance(x, str))]\n",
    "df = df[df['sentence2'].apply(lambda x: isinstance(x, str))]\n"
   ]
  },
  {
   "cell_type": "code",
   "execution_count": 3,
   "id": "fe5129e7-3595-436f-b646-c092cd820940",
   "metadata": {},
   "outputs": [],
   "source": [
    "# Extract sentences and labels\n",
    "sent1 = df[\"sentence1\"].astype(str).tolist()\n",
    "sent2 = df[\"sentence2\"].astype(str).tolist()\n",
    "labels = df[\"label\"].astype(int).tolist()\n",
    "\n"
   ]
  },
  {
   "cell_type": "code",
   "execution_count": 9,
   "id": "a5736ffe-e183-4cb1-967a-27fef534f8bb",
   "metadata": {},
   "outputs": [
    {
     "name": "stdout",
     "output_type": "stream",
     "text": [
      "Vocabulary Size: 13\n"
     ]
    }
   ],
   "source": [
    "# Sample sentences and labels (for illustration)\n",
    "sent1 = [\"hello world\", \"this is a test\", \"hello again\"]\n",
    "sent2 = [\"hello universe\", \"this is another test\", \"hello once more\"]\n",
    "labels = [1, 0, 1]  # Binary labels (for example)\n",
    "\n",
    "# Tokenization function\n",
    "def tokenize(text):\n",
    "    return text.lower().split()\n",
    "\n",
    "# Build vocabulary (count word frequency)\n",
    "counter = Counter()\n",
    "for s in sent1 + sent2:\n",
    "    counter.update(tokenize(s))\n",
    "\n",
    "# Create word2idx dict with padding and unknown tokens\n",
    "word2idx = {'<pad>': 0, '<unk>': 1}\n",
    "for word in counter:\n",
    "    word2idx[word] = len(word2idx)\n",
    "\n",
    "# Encode sentences using word2idx mapping\n",
    "def encode(sentence):\n",
    "    return [word2idx.get(w, word2idx['<unk>']) for w in tokenize(sentence)]\n",
    "\n",
    "encoded_s1 = [torch.tensor(encode(s)) for s in sent1]\n",
    "encoded_s2 = [torch.tensor(encode(s)) for s in sent2]\n",
    "\n",
    "# Pad sequences to the max_len\n",
    "def pad_sequences(sequences, max_len):\n",
    "    padded = torch.zeros((len(sequences), max_len), dtype=torch.long)\n",
    "    for i, seq in enumerate(sequences):\n",
    "        padded[i, :min(len(seq), max_len)] = seq[:max_len]\n",
    "    return padded\n",
    "\n",
    "max_len = 100\n",
    "X1 = pad_sequences(encoded_s1, max_len)\n",
    "X2 = pad_sequences(encoded_s2, max_len)\n",
    "y = torch.tensor(labels, dtype=torch.long)\n",
    "\n",
    "# Define vocab_size from word2idx\n",
    "vocab_size = len(word2idx)\n",
    "\n",
    "print(f\"Vocabulary Size: {vocab_size}\")"
   ]
  },
  {
   "cell_type": "code",
   "execution_count": 10,
   "id": "1e60f83a-b1ba-4a7f-bcc5-77cbce6915e6",
   "metadata": {},
   "outputs": [
    {
     "name": "stderr",
     "output_type": "stream",
     "text": [
      "/tmp/ipykernel_297/1572923970.py:5: UserWarning: To copy construct from a tensor, it is recommended to use sourceTensor.clone().detach() or sourceTensor.clone().detach().requires_grad_(True), rather than torch.tensor(sourceTensor).\n",
      "  X1_train = torch.tensor(X1_train, dtype=torch.long)\n",
      "/tmp/ipykernel_297/1572923970.py:6: UserWarning: To copy construct from a tensor, it is recommended to use sourceTensor.clone().detach() or sourceTensor.clone().detach().requires_grad_(True), rather than torch.tensor(sourceTensor).\n",
      "  X2_train = torch.tensor(X2_train, dtype=torch.long)\n",
      "/tmp/ipykernel_297/1572923970.py:7: UserWarning: To copy construct from a tensor, it is recommended to use sourceTensor.clone().detach() or sourceTensor.clone().detach().requires_grad_(True), rather than torch.tensor(sourceTensor).\n",
      "  y_train = torch.tensor(y_train, dtype=torch.float32)\n",
      "/tmp/ipykernel_297/1572923970.py:9: UserWarning: To copy construct from a tensor, it is recommended to use sourceTensor.clone().detach() or sourceTensor.clone().detach().requires_grad_(True), rather than torch.tensor(sourceTensor).\n",
      "  X1_test = torch.tensor(X1_test, dtype=torch.long)\n",
      "/tmp/ipykernel_297/1572923970.py:10: UserWarning: To copy construct from a tensor, it is recommended to use sourceTensor.clone().detach() or sourceTensor.clone().detach().requires_grad_(True), rather than torch.tensor(sourceTensor).\n",
      "  X2_test = torch.tensor(X2_test, dtype=torch.long)\n",
      "/tmp/ipykernel_297/1572923970.py:11: UserWarning: To copy construct from a tensor, it is recommended to use sourceTensor.clone().detach() or sourceTensor.clone().detach().requires_grad_(True), rather than torch.tensor(sourceTensor).\n",
      "  y_test = torch.tensor(y_test, dtype=torch.float32)\n"
     ]
    }
   ],
   "source": [
    "# 🔀 Split data into training and testing sets\n",
    "X1_train, X1_test, X2_train, X2_test, y_train, y_test = train_test_split(X1, X2, y, test_size=0.2, random_state=42)\n",
    "\n",
    "# 🔨 Convert data into PyTorch tensors\n",
    "X1_train = torch.tensor(X1_train, dtype=torch.long)\n",
    "X2_train = torch.tensor(X2_train, dtype=torch.long)\n",
    "y_train = torch.tensor(y_train, dtype=torch.float32)\n",
    "\n",
    "X1_test = torch.tensor(X1_test, dtype=torch.long)\n",
    "X2_test = torch.tensor(X2_test, dtype=torch.long)\n",
    "y_test = torch.tensor(y_test, dtype=torch.float32)\n"
   ]
  },
  {
   "cell_type": "code",
   "execution_count": 27,
   "id": "a622e985-cca2-4813-b3a3-e612bae88a8c",
   "metadata": {},
   "outputs": [
    {
     "name": "stderr",
     "output_type": "stream",
     "text": [
      "/usr/local/lib/python3.12/dist-packages/torch/nn/modules/rnn.py:123: UserWarning: dropout option adds dropout after all but last recurrent layer, so non-zero dropout expects num_layers greater than 1, but got dropout=0.5 and num_layers=1\n",
      "  warnings.warn(\n"
     ]
    }
   ],
   "source": [
    "device = torch.device(\"cuda\" if torch.cuda.is_available() else \"cpu\")\n",
    "\n",
    "# Move model to the selected device (GPU if available, else CPU)\n",
    "model = SiameseLSTM(vocab_size=5000, embedding_dim=128, hidden_dim=256, max_len=100).to(device)"
   ]
  },
  {
   "cell_type": "code",
   "execution_count": 28,
   "id": "70470232-38d4-4e9e-a0d9-7b970eecdd5d",
   "metadata": {},
   "outputs": [
    {
     "name": "stderr",
     "output_type": "stream",
     "text": [
      "/usr/local/lib/python3.12/dist-packages/torch/nn/modules/rnn.py:123: UserWarning: dropout option adds dropout after all but last recurrent layer, so non-zero dropout expects num_layers greater than 1, but got dropout=0.5 and num_layers=1\n",
      "  warnings.warn(\n"
     ]
    },
    {
     "ename": "NameError",
     "evalue": "name 'X1_val' is not defined",
     "output_type": "error",
     "traceback": [
      "\u001b[0;31m---------------------------------------------------------------------------\u001b[0m",
      "\u001b[0;31mNameError\u001b[0m                                 Traceback (most recent call last)",
      "Cell \u001b[0;32mIn[28], line 40\u001b[0m\n\u001b[1;32m     38\u001b[0m \u001b[38;5;66;03m# Move data to the selected device (GPU or CPU)\u001b[39;00m\n\u001b[1;32m     39\u001b[0m X1_train, X2_train, y_train \u001b[38;5;241m=\u001b[39m X1_train\u001b[38;5;241m.\u001b[39mto(device), X2_train\u001b[38;5;241m.\u001b[39mto(device), y_train\u001b[38;5;241m.\u001b[39mto(device)\n\u001b[0;32m---> 40\u001b[0m X1_val, X2_val, y_val \u001b[38;5;241m=\u001b[39m \u001b[43mX1_val\u001b[49m\u001b[38;5;241m.\u001b[39mto(device), X2_val\u001b[38;5;241m.\u001b[39mto(device), y_val\u001b[38;5;241m.\u001b[39mto(device)\n\u001b[1;32m     42\u001b[0m optimizer\u001b[38;5;241m.\u001b[39mzero_grad()\n\u001b[1;32m     43\u001b[0m outputs \u001b[38;5;241m=\u001b[39m model(X1_train, X2_train)\n",
      "\u001b[0;31mNameError\u001b[0m: name 'X1_val' is not defined"
     ]
    }
   ],
   "source": [
    "# Define your model (as you've already done with the modifications)\n",
    "class SiameseLSTM(nn.Module):\n",
    "    def __init__(self, vocab_size, embedding_dim, hidden_dim, max_len, dropout=0.5):\n",
    "        super(SiameseLSTM, self).__init__()\n",
    "        self.embedding = nn.Embedding(vocab_size, embedding_dim, padding_idx=0)\n",
    "        self.lstm = nn.LSTM(embedding_dim, hidden_dim, batch_first=True, dropout=dropout, bidirectional=True)\n",
    "        self.fc = nn.Sequential(\n",
    "            nn.Linear(hidden_dim * 4, 128),  # Adjusted for bidirectional LSTM\n",
    "            nn.ReLU(),\n",
    "            nn.Dropout(dropout),\n",
    "            nn.Linear(128, 1),\n",
    "            nn.Sigmoid()\n",
    "        )\n",
    "\n",
    "    def encode(self, x):\n",
    "        embedded = self.embedding(x)\n",
    "        _, (hidden, _) = self.lstm(embedded)\n",
    "        # Taking the hidden state from both directions\n",
    "        hidden = torch.cat((hidden[-2], hidden[-1]), dim=1)  # Concatenate the forward and backward hidden states\n",
    "        return hidden\n",
    "\n",
    "    def forward(self, x1, x2):\n",
    "        out1 = self.encode(x1)\n",
    "        out2 = self.encode(x2)\n",
    "        combined = torch.cat((out1, out2), dim=1)\n",
    "        return self.fc(combined)\n",
    "\n",
    "# Define your optimizer and loss\n",
    "model = SiameseLSTM(vocab_size=5000, embedding_dim=128, hidden_dim=256, max_len=100)\n",
    "\n",
    "optimizer = optim.Adam(model.parameters(), lr=1e-3)\n",
    "criterion = nn.BCELoss()\n",
    "\n",
    "#Training Loop with Gradient Clipping and Learning Rate Scheduler\n",
    "for epoch in range(10):\n",
    "    model.train()\n",
    "\n",
    "    # Move data to the selected device (GPU or CPU)\n",
    "    X1_train, X2_train, y_train = X1_train.to(device), X2_train.to(device), y_train.to(device)\n",
    "    X1_val, X2_val, y_val = X1_val.to(device), X2_val.to(device), y_val.to(device)\n",
    "\n",
    "    optimizer.zero_grad()\n",
    "    outputs = model(X1_train, X2_train)\n",
    "    loss = criterion(outputs, y_train.float())\n",
    "    loss.backward()\n",
    "\n",
    "    # Gradient Clipping to prevent exploding gradients\n",
    "    torch.nn.utils.clip_grad_norm_(model.parameters(), max_norm=5)\n",
    "\n",
    "    optimizer.step()\n",
    "\n",
    "    # Step the scheduler\n",
    "    scheduler.step()\n",
    "\n",
    "    # Validation loss\n",
    "    model.eval()\n",
    "    with torch.no_grad():\n",
    "        val_outputs = model(X1_val, X2_val)\n",
    "        val_loss = criterion(val_outputs, y_val.float())\n",
    "\n",
    "    print(f\"Epoch {epoch+1}/10, Train Loss: {loss.item():.4f}, Val Loss: {val_loss.item():.4f}\")"
   ]
  },
  {
   "cell_type": "code",
   "execution_count": 24,
   "id": "ad80bf1f-065f-4ff8-963d-c7392bce3b86",
   "metadata": {},
   "outputs": [
    {
     "name": "stderr",
     "output_type": "stream",
     "text": [
      "/usr/local/lib/python3.12/dist-packages/torch/nn/modules/rnn.py:123: UserWarning: dropout option adds dropout after all but last recurrent layer, so non-zero dropout expects num_layers greater than 1, but got dropout=0.5 and num_layers=1\n",
      "  warnings.warn(\n"
     ]
    }
   ],
   "source": [
    "# Initialize the model\n",
    "embedding_dim = 128\n",
    "hidden_dim = 64\n",
    "model = SiameseLSTM(vocab_size, embedding_dim, hidden_dim, max_len)\n",
    "\n",
    "# 🔧 Set up loss and optimizer\n",
    "criterion = nn.BCELoss()\n",
    "optimizer = optim.Adam(model.parameters(), lr=0.001)\n",
    "\n"
   ]
  },
  {
   "cell_type": "code",
   "execution_count": 34,
   "id": "e71b44a1-4847-4bcd-87ba-9dc636451a4f",
   "metadata": {},
   "outputs": [
    {
     "name": "stdout",
     "output_type": "stream",
     "text": [
      "Epoch 1/10, Train Loss: 0.0002, Val Loss: 0.0000\n",
      "Epoch 2/10, Train Loss: 0.0000, Val Loss: 0.0000\n",
      "Epoch 3/10, Train Loss: 0.0000, Val Loss: 0.0000\n",
      "Epoch 4/10, Train Loss: 0.0000, Val Loss: 0.0000\n",
      "Epoch 5/10, Train Loss: 0.0000, Val Loss: 0.0000\n",
      "Epoch 6/10, Train Loss: 0.0000, Val Loss: 0.0000\n",
      "Epoch 7/10, Train Loss: 0.0000, Val Loss: 0.0166\n",
      "Epoch 8/10, Train Loss: 0.0000, Val Loss: 0.0000\n",
      "Epoch 9/10, Train Loss: 0.0000, Val Loss: 0.0000\n",
      "Epoch 10/10, Train Loss: 0.0000, Val Loss: 0.0000\n"
     ]
    },
    {
     "data": {
      "image/png": "[encoded data removed]",
      "text/plain": [
       "<Figure size 640x480 with 1 Axes>"
      ]
     },
     "metadata": {},
     "output_type": "display_data"
    },
    {
     "name": "stdout",
     "output_type": "stream",
     "text": [
      "Best model saved to best_model.pth\n"
     ]
    }
   ],
   "source": [
    "import torch\n",
    "import torch.nn as nn\n",
    "import torch.optim as optim\n",
    "import matplotlib.pyplot as plt\n",
    "\n",
    "# Ensure data is within valid range for embedding\n",
    "vocab_size = 5000  # Replace with your vocab_size\n",
    "X1_train = torch.clamp(X1_train, max=vocab_size - 1)\n",
    "X2_train = torch.clamp(X2_train, max=vocab_size - 1)\n",
    "X1_test = torch.clamp(X1_test, max=vocab_size - 1)\n",
    "X2_test = torch.clamp(X2_test, max=vocab_size - 1)\n",
    "\n",
    "# Move model and data to GPU if available\n",
    "device = torch.device('cuda' if torch.cuda.is_available() else 'cpu')\n",
    "model = model.to(device)\n",
    "X1_train, X2_train, y_train = X1_train.to(device), X2_train.to(device), y_train.to(device)\n",
    "X1_test, X2_test, y_test = X1_test.to(device), X2_test.to(device), y_test.to(device)\n",
    "\n",
    "# 🏋️ Training loop\n",
    "num_epochs = 10\n",
    "batch_size = 64  # Unused here unless you add batching logic\n",
    "train_losses = []\n",
    "val_losses = []\n",
    "\n",
    "# Define optimizer and loss function\n",
    "optimizer = torch.optim.Adam(model.parameters(), lr=0.001)\n",
    "criterion = nn.BCELoss()  # Binary Cross-Entropy loss\n",
    "\n",
    "best_val_loss = float('inf')  # Initialize best validation loss to a very high number\n",
    "best_model_path = 'best_model.pth'  # Path to save the best model\n",
    "\n",
    "for epoch in range(num_epochs):\n",
    "    model.train()\n",
    "    optimizer.zero_grad()\n",
    "\n",
    "    # Forward pass\n",
    "    outputs = model(X1_train, X2_train)\n",
    "    # Ensure the output and target are the same shape\n",
    "    loss = criterion(outputs, y_train.float().unsqueeze(1))  # Unsqueeze target to match shape [batch_size, 1]\n",
    "\n",
    "    loss.backward()\n",
    "    optimizer.step()\n",
    "    train_losses.append(loss.item())\n",
    "\n",
    "    # Validation\n",
    "    model.eval()\n",
    "    with torch.no_grad():\n",
    "        val_outputs = model(X1_test, X2_test)\n",
    "        val_loss = criterion(val_outputs, y_test.float().unsqueeze(1))  # Unsqueeze target to match shape [batch_size, 1]\n",
    "        val_losses.append(val_loss.item())\n",
    "\n",
    "    print(f\"Epoch {epoch + 1}/{num_epochs}, Train Loss: {loss.item():.4f}, Val Loss: {val_loss.item():.4f}\")\n",
    "\n",
    "    # Save the best model based on validation loss\n",
    "    if val_loss.item() < best_val_loss:\n",
    "        best_val_loss = val_loss.item()\n",
    "        torch.save(model.state_dict(), best_model_path)  # Save the model\n",
    "\n",
    "# 📉 Plot loss curves\n",
    "plt.plot(train_losses, label='Train Loss')\n",
    "plt.plot(val_losses, label='Validation Loss')\n",
    "plt.title('Loss Over Epochs')\n",
    "plt.xlabel('Epoch')\n",
    "plt.ylabel('Loss')\n",
    "plt.legend()\n",
    "plt.grid(True)\n",
    "plt.show()\n",
    "\n",
    "print(f\"Best model saved to {best_model_path}\")\n"
   ]
  },
  {
   "cell_type": "code",
   "execution_count": 38,
   "id": "11daee48-e94a-40c3-9def-8d439db57958",
   "metadata": {},
   "outputs": [
    {
     "name": "stdout",
     "output_type": "stream",
     "text": [
      "✅ Train Accuracy: 1.0000\n",
      "✅ Train Precision: 1.0000\n",
      "✅ Train Recall: 1.0000\n",
      "✅ Train F1 Score: 1.0000\n",
      "✅ Train ROC AUC: 1.0000\n",
      "✅ Train Confusion Matrix:\n",
      "[[1 0]\n",
      " [0 1]]\n"
     ]
    }
   ],
   "source": [
    "from sklearn.metrics import accuracy_score, precision_score, recall_score, f1_score, roc_auc_score, confusion_matrix\n",
    "import numpy as np\n",
    "\n",
    "# Forward pass for predictions\n",
    "train_pred = (model(X1_train, X2_train) > 0.5).float().squeeze()\n",
    "test_pred = (model(X1_test, X2_test) > 0.5).float().squeeze()\n",
    "\n",
    "# Move tensors to CPU before converting to numpy\n",
    "train_pred_cpu = train_pred.cpu().numpy()\n",
    "test_pred_cpu = test_pred.cpu().numpy()\n",
    "y_train_cpu = y_train.cpu().numpy().squeeze()  # Ensure no extra dimensions\n",
    "y_test_cpu = y_test.cpu().numpy().squeeze()   # Ensure no extra dimensions\n",
    "\n",
    "# Calculate accuracy\n",
    "print(f\"✅ Train Accuracy: {accuracy_score(y_train_cpu, train_pred_cpu):.4f}\")\n",
    "\n",
    "\n",
    "# Calculate precision\n",
    "print(f\"✅ Train Precision: {precision_score(y_train_cpu, train_pred_cpu):.4f}\")\n",
    "\n",
    "\n",
    "# Calculate recall\n",
    "print(f\"✅ Train Recall: {recall_score(y_train_cpu, train_pred_cpu):.4f}\")\n",
    "\n",
    "\n",
    "# Calculate F1 score\n",
    "print(f\"✅ Train F1 Score: {f1_score(y_train_cpu, train_pred_cpu):.4f}\")\n",
    "\n",
    "# Calculate ROC AUC score (only for binary classification)\n",
    "print(f\"✅ Train ROC AUC: {roc_auc_score(y_train_cpu, train_pred_cpu):.4f}\")\n",
    "\n",
    "\n",
    "# Confusion Matrix (for additional insights)\n",
    "train_conf_matrix = confusion_matrix(y_train_cpu, train_pred_cpu)\n",
    "\n",
    "\n",
    "print(\"✅ Train Confusion Matrix:\")\n",
    "print(train_conf_matrix)\n",
    "\n"
   ]
  },
  {
   "cell_type": "code",
   "execution_count": 42,
   "id": "87ff9e7d-a1f4-43ab-949a-1d688c447c03",
   "metadata": {},
   "outputs": [
    {
     "name": "stdout",
     "output_type": "stream",
     "text": [
      "🔍 Classification Report - Train:\n",
      "              precision    recall  f1-score   support\n",
      "\n",
      "         0.0       1.00      1.00      1.00         1\n",
      "         1.0       1.00      1.00      1.00         1\n",
      "\n",
      "    accuracy                           1.00         2\n",
      "   macro avg       1.00      1.00      1.00         2\n",
      "weighted avg       1.00      1.00      1.00         2\n",
      "\n",
      "🔍 Classification Report - Test:\n"
     ]
    },
    {
     "ename": "TypeError",
     "evalue": "Singleton array array(1., dtype=float32) cannot be considered a valid collection.",
     "output_type": "error",
     "traceback": [
      "\u001b[0;31m---------------------------------------------------------------------------\u001b[0m",
      "\u001b[0;31mTypeError\u001b[0m                                 Traceback (most recent call last)",
      "Cell \u001b[0;32mIn[42], line 18\u001b[0m\n\u001b[1;32m     15\u001b[0m \u001b[38;5;28mprint\u001b[39m(classification_report(y_train_true, train_pred))\n\u001b[1;32m     17\u001b[0m \u001b[38;5;28mprint\u001b[39m(\u001b[38;5;124m\"\u001b[39m\u001b[38;5;124m🔍 Classification Report - Test:\u001b[39m\u001b[38;5;124m\"\u001b[39m)\n\u001b[0;32m---> 18\u001b[0m \u001b[38;5;28mprint\u001b[39m(\u001b[43mclassification_report\u001b[49m\u001b[43m(\u001b[49m\u001b[43my_test_true\u001b[49m\u001b[43m,\u001b[49m\u001b[43m \u001b[49m\u001b[43mtest_pred\u001b[49m\u001b[43m)\u001b[49m)\n\u001b[1;32m     20\u001b[0m \u001b[38;5;66;03m# ✅ Print accuracy separately (optional, since it’s also in the report)\u001b[39;00m\n\u001b[1;32m     21\u001b[0m \u001b[38;5;28mprint\u001b[39m(\u001b[38;5;124mf\u001b[39m\u001b[38;5;124m\"\u001b[39m\u001b[38;5;124m✅ Train Accuracy: \u001b[39m\u001b[38;5;132;01m{\u001b[39;00maccuracy_score(y_train_true,\u001b[38;5;250m \u001b[39mtrain_pred)\u001b[38;5;132;01m:\u001b[39;00m\u001b[38;5;124m.4f\u001b[39m\u001b[38;5;132;01m}\u001b[39;00m\u001b[38;5;124m\"\u001b[39m)\n",
      "File \u001b[0;32m/usr/local/lib/python3.12/dist-packages/sklearn/utils/_param_validation.py:213\u001b[0m, in \u001b[0;36mvalidate_params.<locals>.decorator.<locals>.wrapper\u001b[0;34m(*args, **kwargs)\u001b[0m\n\u001b[1;32m    207\u001b[0m \u001b[38;5;28;01mtry\u001b[39;00m:\n\u001b[1;32m    208\u001b[0m     \u001b[38;5;28;01mwith\u001b[39;00m config_context(\n\u001b[1;32m    209\u001b[0m         skip_parameter_validation\u001b[38;5;241m=\u001b[39m(\n\u001b[1;32m    210\u001b[0m             prefer_skip_nested_validation \u001b[38;5;129;01mor\u001b[39;00m global_skip_validation\n\u001b[1;32m    211\u001b[0m         )\n\u001b[1;32m    212\u001b[0m     ):\n\u001b[0;32m--> 213\u001b[0m         \u001b[38;5;28;01mreturn\u001b[39;00m \u001b[43mfunc\u001b[49m\u001b[43m(\u001b[49m\u001b[38;5;241;43m*\u001b[39;49m\u001b[43margs\u001b[49m\u001b[43m,\u001b[49m\u001b[43m \u001b[49m\u001b[38;5;241;43m*\u001b[39;49m\u001b[38;5;241;43m*\u001b[39;49m\u001b[43mkwargs\u001b[49m\u001b[43m)\u001b[49m\n\u001b[1;32m    214\u001b[0m \u001b[38;5;28;01mexcept\u001b[39;00m InvalidParameterError \u001b[38;5;28;01mas\u001b[39;00m e:\n\u001b[1;32m    215\u001b[0m     \u001b[38;5;66;03m# When the function is just a wrapper around an estimator, we allow\u001b[39;00m\n\u001b[1;32m    216\u001b[0m     \u001b[38;5;66;03m# the function to delegate validation to the estimator, but we replace\u001b[39;00m\n\u001b[1;32m    217\u001b[0m     \u001b[38;5;66;03m# the name of the estimator by the name of the function in the error\u001b[39;00m\n\u001b[1;32m    218\u001b[0m     \u001b[38;5;66;03m# message to avoid confusion.\u001b[39;00m\n\u001b[1;32m    219\u001b[0m     msg \u001b[38;5;241m=\u001b[39m re\u001b[38;5;241m.\u001b[39msub(\n\u001b[1;32m    220\u001b[0m         \u001b[38;5;124mr\u001b[39m\u001b[38;5;124m\"\u001b[39m\u001b[38;5;124mparameter of \u001b[39m\u001b[38;5;124m\\\u001b[39m\u001b[38;5;124mw+ must be\u001b[39m\u001b[38;5;124m\"\u001b[39m,\n\u001b[1;32m    221\u001b[0m         \u001b[38;5;124mf\u001b[39m\u001b[38;5;124m\"\u001b[39m\u001b[38;5;124mparameter of \u001b[39m\u001b[38;5;132;01m{\u001b[39;00mfunc\u001b[38;5;241m.\u001b[39m\u001b[38;5;18m__qualname__\u001b[39m\u001b[38;5;132;01m}\u001b[39;00m\u001b[38;5;124m must be\u001b[39m\u001b[38;5;124m\"\u001b[39m,\n\u001b[1;32m    222\u001b[0m         \u001b[38;5;28mstr\u001b[39m(e),\n\u001b[1;32m    223\u001b[0m     )\n",
      "File \u001b[0;32m/usr/local/lib/python3.12/dist-packages/sklearn/metrics/_classification.py:2626\u001b[0m, in \u001b[0;36mclassification_report\u001b[0;34m(y_true, y_pred, labels, target_names, sample_weight, digits, output_dict, zero_division)\u001b[0m\n\u001b[1;32m   2491\u001b[0m \u001b[38;5;129m@validate_params\u001b[39m(\n\u001b[1;32m   2492\u001b[0m     {\n\u001b[1;32m   2493\u001b[0m         \u001b[38;5;124m\"\u001b[39m\u001b[38;5;124my_true\u001b[39m\u001b[38;5;124m\"\u001b[39m: [\u001b[38;5;124m\"\u001b[39m\u001b[38;5;124marray-like\u001b[39m\u001b[38;5;124m\"\u001b[39m, \u001b[38;5;124m\"\u001b[39m\u001b[38;5;124msparse matrix\u001b[39m\u001b[38;5;124m\"\u001b[39m],\n\u001b[0;32m   (...)\u001b[0m\n\u001b[1;32m   2517\u001b[0m     zero_division\u001b[38;5;241m=\u001b[39m\u001b[38;5;124m\"\u001b[39m\u001b[38;5;124mwarn\u001b[39m\u001b[38;5;124m\"\u001b[39m,\n\u001b[1;32m   2518\u001b[0m ):\n\u001b[1;32m   2519\u001b[0m \u001b[38;5;250m    \u001b[39m\u001b[38;5;124;03m\"\"\"Build a text report showing the main classification metrics.\u001b[39;00m\n\u001b[1;32m   2520\u001b[0m \n\u001b[1;32m   2521\u001b[0m \u001b[38;5;124;03m    Read more in the :ref:`User Guide <classification_report>`.\u001b[39;00m\n\u001b[0;32m   (...)\u001b[0m\n\u001b[1;32m   2623\u001b[0m \u001b[38;5;124;03m    <BLANKLINE>\u001b[39;00m\n\u001b[1;32m   2624\u001b[0m \u001b[38;5;124;03m    \"\"\"\u001b[39;00m\n\u001b[0;32m-> 2626\u001b[0m     y_type, y_true, y_pred \u001b[38;5;241m=\u001b[39m \u001b[43m_check_targets\u001b[49m\u001b[43m(\u001b[49m\u001b[43my_true\u001b[49m\u001b[43m,\u001b[49m\u001b[43m \u001b[49m\u001b[43my_pred\u001b[49m\u001b[43m)\u001b[49m\n\u001b[1;32m   2628\u001b[0m     \u001b[38;5;28;01mif\u001b[39;00m labels \u001b[38;5;129;01mis\u001b[39;00m \u001b[38;5;28;01mNone\u001b[39;00m:\n\u001b[1;32m   2629\u001b[0m         labels \u001b[38;5;241m=\u001b[39m unique_labels(y_true, y_pred)\n",
      "File \u001b[0;32m/usr/local/lib/python3.12/dist-packages/sklearn/metrics/_classification.py:103\u001b[0m, in \u001b[0;36m_check_targets\u001b[0;34m(y_true, y_pred)\u001b[0m\n\u001b[1;32m     76\u001b[0m \u001b[38;5;250m\u001b[39m\u001b[38;5;124;03m\"\"\"Check that y_true and y_pred belong to the same classification task.\u001b[39;00m\n\u001b[1;32m     77\u001b[0m \n\u001b[1;32m     78\u001b[0m \u001b[38;5;124;03mThis converts multiclass or binary types to a common shape, and raises a\u001b[39;00m\n\u001b[0;32m   (...)\u001b[0m\n\u001b[1;32m    100\u001b[0m \u001b[38;5;124;03my_pred : array or indicator matrix\u001b[39;00m\n\u001b[1;32m    101\u001b[0m \u001b[38;5;124;03m\"\"\"\u001b[39;00m\n\u001b[1;32m    102\u001b[0m xp, _ \u001b[38;5;241m=\u001b[39m get_namespace(y_true, y_pred)\n\u001b[0;32m--> 103\u001b[0m \u001b[43mcheck_consistent_length\u001b[49m\u001b[43m(\u001b[49m\u001b[43my_true\u001b[49m\u001b[43m,\u001b[49m\u001b[43m \u001b[49m\u001b[43my_pred\u001b[49m\u001b[43m)\u001b[49m\n\u001b[1;32m    104\u001b[0m type_true \u001b[38;5;241m=\u001b[39m type_of_target(y_true, input_name\u001b[38;5;241m=\u001b[39m\u001b[38;5;124m\"\u001b[39m\u001b[38;5;124my_true\u001b[39m\u001b[38;5;124m\"\u001b[39m)\n\u001b[1;32m    105\u001b[0m type_pred \u001b[38;5;241m=\u001b[39m type_of_target(y_pred, input_name\u001b[38;5;241m=\u001b[39m\u001b[38;5;124m\"\u001b[39m\u001b[38;5;124my_pred\u001b[39m\u001b[38;5;124m\"\u001b[39m)\n",
      "File \u001b[0;32m/usr/local/lib/python3.12/dist-packages/sklearn/utils/validation.py:454\u001b[0m, in \u001b[0;36mcheck_consistent_length\u001b[0;34m(*arrays)\u001b[0m\n\u001b[1;32m    436\u001b[0m \u001b[38;5;28;01mdef\u001b[39;00m \u001b[38;5;21mcheck_consistent_length\u001b[39m(\u001b[38;5;241m*\u001b[39marrays):\n\u001b[1;32m    437\u001b[0m \u001b[38;5;250m    \u001b[39m\u001b[38;5;124;03m\"\"\"Check that all arrays have consistent first dimensions.\u001b[39;00m\n\u001b[1;32m    438\u001b[0m \n\u001b[1;32m    439\u001b[0m \u001b[38;5;124;03m    Checks whether all objects in arrays have the same shape or length.\u001b[39;00m\n\u001b[0;32m   (...)\u001b[0m\n\u001b[1;32m    451\u001b[0m \u001b[38;5;124;03m    >>> check_consistent_length(a, b)\u001b[39;00m\n\u001b[1;32m    452\u001b[0m \u001b[38;5;124;03m    \"\"\"\u001b[39;00m\n\u001b[0;32m--> 454\u001b[0m     lengths \u001b[38;5;241m=\u001b[39m [\u001b[43m_num_samples\u001b[49m\u001b[43m(\u001b[49m\u001b[43mX\u001b[49m\u001b[43m)\u001b[49m \u001b[38;5;28;01mfor\u001b[39;00m X \u001b[38;5;129;01min\u001b[39;00m arrays \u001b[38;5;28;01mif\u001b[39;00m X \u001b[38;5;129;01mis\u001b[39;00m \u001b[38;5;129;01mnot\u001b[39;00m \u001b[38;5;28;01mNone\u001b[39;00m]\n\u001b[1;32m    455\u001b[0m     uniques \u001b[38;5;241m=\u001b[39m np\u001b[38;5;241m.\u001b[39munique(lengths)\n\u001b[1;32m    456\u001b[0m     \u001b[38;5;28;01mif\u001b[39;00m \u001b[38;5;28mlen\u001b[39m(uniques) \u001b[38;5;241m>\u001b[39m \u001b[38;5;241m1\u001b[39m:\n",
      "File \u001b[0;32m/usr/local/lib/python3.12/dist-packages/sklearn/utils/validation.py:382\u001b[0m, in \u001b[0;36m_num_samples\u001b[0;34m(x)\u001b[0m\n\u001b[1;32m    380\u001b[0m \u001b[38;5;28;01mif\u001b[39;00m \u001b[38;5;28mhasattr\u001b[39m(x, \u001b[38;5;124m\"\u001b[39m\u001b[38;5;124mshape\u001b[39m\u001b[38;5;124m\"\u001b[39m) \u001b[38;5;129;01mand\u001b[39;00m x\u001b[38;5;241m.\u001b[39mshape \u001b[38;5;129;01mis\u001b[39;00m \u001b[38;5;129;01mnot\u001b[39;00m \u001b[38;5;28;01mNone\u001b[39;00m:\n\u001b[1;32m    381\u001b[0m     \u001b[38;5;28;01mif\u001b[39;00m \u001b[38;5;28mlen\u001b[39m(x\u001b[38;5;241m.\u001b[39mshape) \u001b[38;5;241m==\u001b[39m \u001b[38;5;241m0\u001b[39m:\n\u001b[0;32m--> 382\u001b[0m         \u001b[38;5;28;01mraise\u001b[39;00m \u001b[38;5;167;01mTypeError\u001b[39;00m(\n\u001b[1;32m    383\u001b[0m             \u001b[38;5;124m\"\u001b[39m\u001b[38;5;124mSingleton array \u001b[39m\u001b[38;5;132;01m%r\u001b[39;00m\u001b[38;5;124m cannot be considered a valid collection.\u001b[39m\u001b[38;5;124m\"\u001b[39m \u001b[38;5;241m%\u001b[39m x\n\u001b[1;32m    384\u001b[0m         )\n\u001b[1;32m    385\u001b[0m     \u001b[38;5;66;03m# Check that shape is returning an integer or default to len\u001b[39;00m\n\u001b[1;32m    386\u001b[0m     \u001b[38;5;66;03m# Dask dataframes may not return numeric shape[0] value\u001b[39;00m\n\u001b[1;32m    387\u001b[0m     \u001b[38;5;28;01mif\u001b[39;00m \u001b[38;5;28misinstance\u001b[39m(x\u001b[38;5;241m.\u001b[39mshape[\u001b[38;5;241m0\u001b[39m], numbers\u001b[38;5;241m.\u001b[39mIntegral):\n",
      "\u001b[0;31mTypeError\u001b[0m: Singleton array array(1., dtype=float32) cannot be considered a valid collection."
     ]
    }
   ],
   "source": [
    "from sklearn.metrics import classification_report, accuracy_score\n",
    "\n",
    "# Ensure predictions and true labels are moved to CPU and converted to numpy arrays\n",
    "train_pred = (model(X1_train, X2_train) > 0.5).float().squeeze().cpu().numpy()\n",
    "test_pred = (model(X1_test, X2_test) > 0.5).float().squeeze().cpu().numpy()\n",
    "y_train_true = y_train.cpu().numpy().squeeze()\n",
    "y_test_true = y_test.cpu().numpy().squeeze()\n",
    "\n",
    "# Convert predictions to integers (0 or 1)\n",
    "train_pred = train_pred.astype(int)\n",
    "test_pred = test_pred.astype(int)\n",
    "\n",
    "# 🧾 Print classification report for Train and Test\n",
    "print(\"🔍 Classification Report - Train:\")\n",
    "print(classification_report(y_train_true, train_pred))\n",
    "\n",
    "print(\"🔍 Classification Report - Test:\")\n",
    "print(classification_report(y_test_true, test_pred))\n",
    "\n",
    "# ✅ Print accuracy separately (optional, since it’s also in the report)\n",
    "print(f\"✅ Train Accuracy: {accuracy_score(y_train_true, train_pred):.4f}\")\n",
    "print(f\"✅ Test Accuracy: {accuracy_score(y_test_true, test_pred):.4f}\")\n"
   ]
  },
  {
   "cell_type": "code",
   "execution_count": 46,
   "id": "a7f3150d-1bc8-47d4-91c1-f6e2f6162f6d",
   "metadata": {},
   "outputs": [],
   "source": [
    "word2idx = {'<pad>': 0, '<unk>': 1}\n",
    "for word in counter:\n",
    "    word2idx[word] = len(word2idx)\n"
   ]
  },
  {
   "cell_type": "code",
   "execution_count": 47,
   "id": "5b238bf7-29d1-4c7e-9650-8d69c4ec1657",
   "metadata": {},
   "outputs": [],
   "source": [
    "\n",
    "import pickle\n",
    "\n",
    "# Save the vocabulary dictionary\n",
    "with open(\"vocab.pkl\", \"wb\") as f:\n",
    "    pickle.dump(word2idx, f)\n",
    "\n",
    "# Optional: save model if not already done\n",
    "torch.save(model.state_dict(), \"best_model.pth\")\n"
   ]
  },
  {
   "cell_type": "code",
   "execution_count": null,
   "id": "b4a10c76-e286-42c4-861e-9c2ad1011776",
   "metadata": {},
   "outputs": [],
   "source": []
  }
 ],
 "metadata": {
  "kernelspec": {
   "display_name": "Python 3 (ipykernel)",
   "language": "python",
   "name": "python3"
  },
  "language_info": {
   "codemirror_mode": {
    "name": "ipython",
    "version": 3
   },
   "file_extension": ".py",
   "mimetype": "text/x-python",
   "name": "python",
   "nbconvert_exporter": "python",
   "pygments_lexer": "ipython3",
   "version": "3.12.3"
  }
 },
 "nbformat": 4,
 "nbformat_minor": 5
}
